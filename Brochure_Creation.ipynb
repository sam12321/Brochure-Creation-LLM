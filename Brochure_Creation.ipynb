{
 "cells": [
  {
   "cell_type": "markdown",
   "id": "d64d5eda-4b38-467e-bd32-44f2887da443",
   "metadata": {},
   "source": [
    "# 🚀 Brochure - Creation - Using LLMS"
   ]
  },
  {
   "cell_type": "markdown",
   "id": "ce371645-3c3b-47b6-9f67-f636472188bf",
   "metadata": {},
   "source": [
    "## 🌠Importing libraries"
   ]
  },
  {
   "cell_type": "code",
   "execution_count": 1,
   "id": "60add1ff-c74a-4f5f-9823-b1312364187a",
   "metadata": {},
   "outputs": [],
   "source": [
    "from openai import OpenAI\n",
    "import os, json\n",
    "import requests\n",
    "from bs4 import BeautifulSoup\n",
    "from dotenv import load_dotenv"
   ]
  },
  {
   "cell_type": "code",
   "execution_count": 2,
   "id": "c7a4d916-f130-4405-beaa-b10aef93351e",
   "metadata": {},
   "outputs": [],
   "source": [
    "load_dotenv()\n",
    "api_key = os.getenv('OPENAI_API_KEY')\n",
    "\n",
    "if not api_key or api_key[:8] != 'sk-proj-':\n",
    "    print(\"Problem found with api key, please check the key in env file\")\n",
    "\n",
    "MODEL = 'gpt-4o-mini'\n",
    "openai = OpenAI()"
   ]
  },
  {
   "cell_type": "markdown",
   "id": "15ce8063-bbd5-4ab0-9aea-82df66e1863b",
   "metadata": {},
   "source": [
    "## Extracting Info from 🕸️site using Class"
   ]
  },
  {
   "cell_type": "code",
   "execution_count": 3,
   "id": "25e75f31-247c-46d4-bca2-048294be4ca0",
   "metadata": {},
   "outputs": [],
   "source": [
    "class Website:\n",
    "    def __init__(self,url):\n",
    "        self.url = url\n",
    "        response = requests.get(url)\n",
    "        self.body = response.content\n",
    "        soup = BeautifulSoup(self.body, 'html.parser')\n",
    "        self.title = soup.title.string if soup.title else \"Title Not Found\"\n",
    "        if soup.body:\n",
    "            for irr in soup.body([\"script\", \"style\", \"img\", \"input\"]):\n",
    "                irr.decompose()\n",
    "            self.text = soup.body.get_text(separator = \"\\n\", strip = True)\n",
    "        else:\n",
    "            self.text = \"\"\n",
    "        links = [link.get('href') for link in soup.find_all('a')]\n",
    "        self.links = [link for link in links if link]\n",
    "\n",
    "    def get_contents(self):\n",
    "        return f\"Webpage Title:n {self.title} \\n Webpage Contents: \\n {self.text}\\n\\n\""
   ]
  },
  {
   "cell_type": "code",
   "execution_count": 4,
   "id": "a0a01f9d-5125-47ef-9cb8-b5a6406fe806",
   "metadata": {},
   "outputs": [],
   "source": [
    "# response = requests.get('https://edwarddonner.com/')\n",
    "# soup = BeautifulSoup(body, 'html.parser')\n",
    "# for ir in soup.body([\"script\", \"style\", \"img\", \"input\"]):\n",
    "#     ir.decompose()\n",
    "# soup.body"
   ]
  },
  {
   "cell_type": "code",
   "execution_count": null,
   "id": "6dee4e7d-2858-4e41-9856-b80027032310",
   "metadata": {},
   "outputs": [],
   "source": [
    "url = 'https://cnn.com/'\n",
    "obj = Website(url)\n",
    "obj.links"
   ]
  },
  {
   "cell_type": "markdown",
   "id": "048bd008-e230-4655-bd86-13c818119aeb",
   "metadata": {},
   "source": [
    "## 📞 Creating API Call prompts for Links Segregation"
   ]
  },
  {
   "cell_type": "code",
   "execution_count": 6,
   "id": "81945fe2-d3f0-4b86-ab65-d2bd620534ab",
   "metadata": {},
   "outputs": [],
   "source": [
    "link_system_prompt = \"You are provided with a list of links found on a webpage. \\\n",
    "You have to decide which of the links are most relevant to include in a brochure for a company, \\\n",
    "such as links to About page, or company page. You should respond in JSON as this example :\"\n",
    "link_system_prompt += \"\"\"\n",
    "{\n",
    "    \"links\": [\n",
    "    {\"type\": \"games page\", \"url\" : \"https://edition.cnn.com/games\"},\n",
    "    {\"type\": \"profiles page\", \"url\": \"https://edition.cnn.com/profiles\"}\n",
    "}\n",
    "\"\"\"\n",
    "\n",
    "def get_user_prompt(website):\n",
    "    user_prompt = f\"Here is the list of links on the website of {website.url} - \"\n",
    "    user_prompt += \"please decide which of these are relevant web links for a brochure about the company, repsond with the full https URL,\\\n",
    "    Do not include Terms of Service, Privacy, email links. \\n\"\n",
    "    user_prompt += \"Links (some mught be relevant links) : \\n\"\n",
    "    user_prompt += \"\\n\".join(website.links)\n",
    "    return user_prompt"
   ]
  },
  {
   "cell_type": "code",
   "execution_count": 7,
   "id": "cec26af1-2c8f-45a9-8bc2-29694cd6b0f0",
   "metadata": {},
   "outputs": [],
   "source": [
    "# print(get_links_user_prompt(obj))"
   ]
  },
  {
   "cell_type": "markdown",
   "id": "49b8e679-9150-46c4-90ca-245dfcbf0cbf",
   "metadata": {},
   "source": [
    "## Getting Only the relevant Links 🔗"
   ]
  },
  {
   "cell_type": "code",
   "execution_count": 16,
   "id": "b1940dc0-af2d-4116-950d-f531db2f7d75",
   "metadata": {},
   "outputs": [],
   "source": [
    "def get_links(url):\n",
    "    website_obj = Website(url)\n",
    "    response = openai.chat.completions.create(model = MODEL, messages = [\n",
    "    {\"role\":\"system\", \"content\":link_system_prompt},\n",
    "    {\"role\":\"user\", \"content\": get_user_prompt(website_obj)} ],\n",
    "    response_format = {\"type\":\"json_object\"}\n",
    "                                             )\n",
    "    result = response.choices[0].message.content\n",
    "    #print(result)\n",
    "    return json.loads(result)"
   ]
  },
  {
   "cell_type": "code",
   "execution_count": 17,
   "id": "8b11a7bb-be56-4a3c-978b-65794f1d0f81",
   "metadata": {},
   "outputs": [
    {
     "data": {
      "text/plain": [
       "{'links': [{'type': 'home page', 'url': 'https://edition.cnn.com'},\n",
       "  {'type': 'about page', 'url': 'https://edition.cnn.com/about'},\n",
       "  {'type': 'profiles page', 'url': 'https://edition.cnn.com/profiles'},\n",
       "  {'type': 'leadership page',\n",
       "   'url': 'https://edition.cnn.com/profiles/cnn-leadership'},\n",
       "  {'type': 'careers page', 'url': 'https://careers.wbd.com/cnnjobs'},\n",
       "  {'type': 'contact page', 'url': 'https://edition.cnn.com/newsletters'},\n",
       "  {'type': 'social media', 'url': 'https://facebook.com/CNN'},\n",
       "  {'type': 'social media', 'url': 'https://twitter.com/CNN'},\n",
       "  {'type': 'social media', 'url': 'https://instagram.com/CNN'},\n",
       "  {'type': 'social media', 'url': 'https://www.tiktok.com/@cnn?lang=en'},\n",
       "  {'type': 'social media', 'url': 'https://www.linkedin.com/company/cnn'}]}"
      ]
     },
     "execution_count": 17,
     "metadata": {},
     "output_type": "execute_result"
    }
   ],
   "source": [
    "get_links(url)"
   ]
  },
  {
   "cell_type": "code",
   "execution_count": 18,
   "id": "18b46dff-e3c4-40bb-bfd4-c71be56c0e3f",
   "metadata": {},
   "outputs": [],
   "source": [
    "def get_details(url):\n",
    "    result = \"Page: \\n\"\n",
    "    result += Website(url).get_contents()\n",
    "    links = get_links(url)              ## Getting only the relevant links\n",
    "    print(\"Found Links: \", links)\n",
    "    for link in links[\"links\"]:\n",
    "        result += f\"\\n\\n {link['type']}\\n\"\n",
    "        result += Website(link[\"url\"]).get_contents()\n",
    "    return result"
   ]
  },
  {
   "cell_type": "code",
   "execution_count": null,
   "id": "b2dcf1f9-5f67-45b5-bbcb-b9c2ff338469",
   "metadata": {},
   "outputs": [],
   "source": [
    "print(get_details(\"https://anthropic.com\"))"
   ]
  },
  {
   "cell_type": "code",
   "execution_count": 19,
   "id": "8ec3d272-b619-4033-b072-048c49c48985",
   "metadata": {},
   "outputs": [],
   "source": [
    "system_prompt = \"You are an assistant that analyzes the contents of several relevant pages from a company website \\\n",
    "and creates a short brochure about the company for prospective customers, investors and recruits. Respond in markdown.\\\n",
    "Include details of company culture, customers and careers/jobs if you have the information.\"\n",
    "\n",
    "\n",
    "def get_brochure_user_prompt(web_obj):\n",
    "    prompt = f\"You are looking at at a company called : {web_obj.title} \\n\"\n",
    "    prompt += \"Here are the details of it's page and other relevant pages: use this information to create a detailed but short brochure of the company\\n\"\n",
    "    prompt += get_details(web_obj.url)\n",
    "    prompt = prompt[:20000]  ## Truncate so that it does not exceed a limit, mostly to reduce costs\n",
    "    return prompt\n",
    "    "
   ]
  },
  {
   "cell_type": "code",
   "execution_count": 23,
   "id": "683417d9-bc1a-458c-a0e2-5330706eb6b7",
   "metadata": {},
   "outputs": [],
   "source": [
    "from IPython.display import Markdown, display, update_display\n",
    "def create_brochure(url):\n",
    "    response = openai.chat.completions.create(model = MODEL, messages = [{\"role\":\"system\", \"content\": system_prompt},\n",
    "                                                                         {\"role\":\"user\", \"content\": get_brochure_user_prompt(Website(url))}])\n",
    "\n",
    "    result = response.choices[0].message.content\n",
    "    display(Markdown(result))"
   ]
  },
  {
   "cell_type": "markdown",
   "id": "a221edd3-e988-4d12-b446-c7ac78cb42a3",
   "metadata": {},
   "source": [
    "## Et Voila! 🪄"
   ]
  },
  {
   "cell_type": "code",
   "execution_count": 29,
   "id": "2fab76fb-a24f-4933-ba58-95de08f53030",
   "metadata": {},
   "outputs": [
    {
     "data": {
      "text/markdown": [
       "# Anthropic: The Future of Safe AI\n",
       "\n",
       "**About Us**\n",
       "Anthropic is a pioneering AI safety and research company, dedicated to creating reliable, interpretable, and steerable AI systems. Our flagship product, Claude, embodies our commitment to ensuring that AI serves the long-term well-being of humanity. Through your partnership with us, you're joining a forward-thinking company that values safety, transparency, and ethical responsibility in AI development.\n",
       "\n",
       "---\n",
       "\n",
       "**Our Purpose**\n",
       "We believe that AI will have a profound impact on our world. At Anthropic, we focus on building systems that not only advance AI capabilities but also prioritize human benefit. Our rigorous research and application of safety techniques ensure that the products we develop contribute positively to society.\n",
       "\n",
       "---\n",
       "\n",
       "**Our AI Models**\n",
       "- **Claude Opus 4.1**: Our most powerful AI model yet, designed for high-level performance across various domains.\n",
       "- **Claude Sonnet 4** and **Claude Haiku 3.5**: Diverse models optimizing different functionalities and applications.\n",
       "\n",
       "---\n",
       "\n",
       "**Safety as a Science**\n",
       "At Anthropic, we treat AI safety as an empirical discipline. Our interdisciplinary team conducts research that informs our product development, aiming to set new standards for AI safety across industries.\n",
       "\n",
       "---\n",
       "\n",
       "**Company Culture**\n",
       "We foster a collaborative environment where diverse perspectives thrive. Our team comprises researchers, engineers, policy experts, and operational leaders, all working towards the common goal of building safer AI systems. We value:\n",
       "\n",
       "1. **Global Good**: Making decisions that maximize positive outcomes for humanity.\n",
       "2. **Transparency**: Open communication about the impacts of our work.\n",
       "3. **Utility and Kindness**: Being good to our users and the broader community.\n",
       "4. **Innovation in Safety**: Promoting a culture where safety is prioritized in every project.\n",
       "\n",
       "---\n",
       "\n",
       "**Careers at Anthropic**\n",
       "Join us in shaping the future of AI. We are always looking for passionate individuals in research, engineering, and policy-making to be part of our mission. Explore our open roles and be part of a high-impact team dedicated to making AI safer for everyone.\n",
       "\n",
       "---\n",
       "\n",
       "**Our Clients**\n",
       "Our solutions cater to a diverse range of sectors including:\n",
       "- **Customer Support**\n",
       "- **Education**\n",
       "- **Financial Services**\n",
       "- **Government**\n",
       "\n",
       "---\n",
       "\n",
       "**Learn with Us**\n",
       "Through the **Anthropic Academy**, we provide resources and training to help you and your team harness the power of Claude. Empower your organization with AI-driven efficiency and insights.\n",
       "\n",
       "---\n",
       "\n",
       "**Contact Us**\n",
       "Interested in collaborating or learning more? Reach out to us today and discover how Anthropic can help you harness the future of safe AI. \n",
       "\n",
       "**Let’s build a better tomorrow, together!**\n",
       "\n",
       "--- \n",
       "\n",
       "For more information, visit our website at [Anthropic](https://www.anthropic.com) or explore our product offerings via Claude.ai."
      ],
      "text/plain": [
       "<IPython.core.display.Markdown object>"
      ]
     },
     "metadata": {},
     "output_type": "display_data"
    }
   ],
   "source": [
    "create_brochure('https://www.anthropic.com/')"
   ]
  },
  {
   "cell_type": "code",
   "execution_count": 32,
   "id": "1a99651d-34d0-429c-a255-db852f400abb",
   "metadata": {},
   "outputs": [],
   "source": [
    "def stream_brochure(url):\n",
    "    stream = openai.chat.completions.create(\n",
    "        model=MODEL,\n",
    "        messages=[\n",
    "            {\"role\": \"system\", \"content\": system_prompt},\n",
    "            {\"role\": \"user\", \"content\": get_brochure_user_prompt(Website(url))}\n",
    "          ],\n",
    "        stream=True\n",
    "    )\n",
    "    \n",
    "    response = \"\"\n",
    "    display_handle = display(Markdown(\"\"), display_id=True)\n",
    "    for chunk in stream:\n",
    "        response += chunk.choices[0].delta.content or ''\n",
    "        #response = response.replace(\"```\",\"\").replace(\"markdown\", \"\")\n",
    "        update_display(Markdown(response), display_id=display_handle.display_id)"
   ]
  },
  {
   "cell_type": "code",
   "execution_count": 33,
   "id": "4d799b81-41f4-4f7e-b05a-ffffe09be0f3",
   "metadata": {},
   "outputs": [
    {
     "name": "stdout",
     "output_type": "stream",
     "text": [
      "Found Links:  {'links': [{'type': 'company page', 'url': 'https://www.anthropic.com/company'}, {'type': 'team page', 'url': 'https://www.anthropic.com/team'}, {'type': 'careers page', 'url': 'https://www.anthropic.com/careers'}, {'type': 'news page', 'url': 'https://www.anthropic.com/news'}, {'type': 'research page', 'url': 'https://www.anthropic.com/research'}, {'type': 'solutions page', 'url': 'https://www.anthropic.com/solutions'}, {'type': 'events page', 'url': 'https://www.anthropic.com/events'}, {'type': 'customers page', 'url': 'https://www.anthropic.com/customers'}, {'type': 'transparency page', 'url': 'https://www.anthropic.com/transparency'}, {'type': 'api page', 'url': 'https://www.anthropic.com/api'}]}\n"
     ]
    },
    {
     "data": {
      "text/markdown": [
       "# Anthropic: Building Safe and Reliable AI\n",
       "\n",
       "---\n",
       "\n",
       "## About Us\n",
       "Anthropic is at the forefront of AI safety and research, dedicated to creating reliable, interpretable, and steerable AI systems that prioritize human well-being. Our cornerstone product, **Claude**, embodies our mission to build AI technologies that serve the greater good, leveraging our extensive research to create tools that empower various sectors including education, finance, government, and customer support.\n",
       "\n",
       "### Our Philosophy\n",
       "We believe that AI holds the potential to significantly impact society—positively and negatively. That's why we focus on designing AI technologies that are safe and beneficial for everyone. Our multidisciplinary approach combines insights from engineering, policy, and research, fostering collaboration to promote the safe development of AI worldwide.\n",
       "\n",
       "---\n",
       "\n",
       "## Our Products\n",
       "### Meet Claude\n",
       "Claude, the AI assistant designed for seamless collaboration, enhances productivity by utilizing your team's combined expertise. Key features include:\n",
       "- **Collaborative Assistance**: Helps with writing, coding, and daily tasks like drafting emails.\n",
       "- **Project Management**: Ground Claude in specific knowledge for enhanced outcomes.\n",
       "- **Creativity Booster**: Generates ideas and insights quickly to spark innovation across your teams.\n",
       "\n",
       "### Product Offerings\n",
       "- **Claude Opus 4.1**: Our most advanced AI model designed for complex tasks across various domains.\n",
       "- **Claude Code**: Tailored for engineers to improve coding processes and collaboration.\n",
       "- **Enterprise Solutions**: Custom plans to suit large organizations, enabling teamwork and maximizing productivity.\n",
       "\n",
       "---\n",
       "\n",
       "## Customer Commitment\n",
       "Our mission extends beyond merely providing AI solutions; we strive to build lasting relationships with our diverse clientele that ranges from small start-ups to large enterprises. Through our commitment to transparency and security, we engage in ongoing dialogues with our users to understand their needs and enhance their experience.\n",
       "\n",
       "**Our Customers Include:**\n",
       "- Educational institutions\n",
       "- Financial services corporations\n",
       "- Government agencies\n",
       "- Non-profit organizations\n",
       "\n",
       "---\n",
       "\n",
       "## Join the Anthropic Team\n",
       "At Anthropic, we cherish a collaborative and inclusive company culture that emphasizes personal growth and a sense of responsibility towards societal well-being. Our values guide our daily decisions and actions:\n",
       "\n",
       "1. **Act for the global good**.\n",
       "2. **Hold light and shade**: Recognize both the risks and benefits of AI.\n",
       "3. **Be good to our users**: Cultivate kindness and generosity.\n",
       "4. **Ignite a race to the top on safety**: Set industry standards for AI safety.\n",
       "5. **Do the simple thing that works**.\n",
       "6. **Be helpful, honest, and harmless**.\n",
       "7. **Put the mission first**.\n",
       "\n",
       "### Careers At Anthropic\n",
       "Join a team of passionate experts in AI research, engineering, policy-making, and operations. We are looking for individuals who are eager to contribute to the safe development of AI technologies. Explore our open roles on our website and help shape the future of AI.\n",
       "\n",
       "---\n",
       "\n",
       "## Connect With Us\n",
       "Together, let's navigate the promising yet complex landscape of AI. For more information, visit our website at [Anthropic](https://www.anthropic.com) or reach out to us directly for inquiries.\n",
       "\n",
       "---\n",
       "\n",
       "Join us in our mission to develop AI that prioritizes safety and enriches human life. **Together, we can build a safer future with AI.**"
      ],
      "text/plain": [
       "<IPython.core.display.Markdown object>"
      ]
     },
     "metadata": {},
     "output_type": "display_data"
    }
   ],
   "source": [
    "stream_brochure('https://www.anthropic.com/')"
   ]
  },
  {
   "cell_type": "code",
   "execution_count": null,
   "id": "b95b56c8-b2c7-44ff-ade3-6d68cae296be",
   "metadata": {},
   "outputs": [],
   "source": []
  }
 ],
 "metadata": {
  "kernelspec": {
   "display_name": "Python 3 (ipykernel)",
   "language": "python",
   "name": "python3"
  },
  "language_info": {
   "codemirror_mode": {
    "name": "ipython",
    "version": 3
   },
   "file_extension": ".py",
   "mimetype": "text/x-python",
   "name": "python",
   "nbconvert_exporter": "python",
   "pygments_lexer": "ipython3",
   "version": "3.11.13"
  }
 },
 "nbformat": 4,
 "nbformat_minor": 5
}
