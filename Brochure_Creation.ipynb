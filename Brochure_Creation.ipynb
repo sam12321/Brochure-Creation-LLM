{
 "cells": [
  {
   "cell_type": "markdown",
   "id": "d64d5eda-4b38-467e-bd32-44f2887da443",
   "metadata": {},
   "source": [
    "# 🚀 Brochure - Creation - Using LLMS"
   ]
  },
  {
   "cell_type": "markdown",
   "id": "ce371645-3c3b-47b6-9f67-f636472188bf",
   "metadata": {},
   "source": [
    "## 🌠Importing libraries"
   ]
  },
  {
   "cell_type": "code",
   "execution_count": 36,
   "id": "60add1ff-c74a-4f5f-9823-b1312364187a",
   "metadata": {},
   "outputs": [],
   "source": [
    "from openai import OpenAI\n",
    "import os, json\n",
    "import requests\n",
    "from bs4 import BeautifulSoup\n",
    "from dotenv import load_dotenv\n",
    "from anthropic import Anthropic"
   ]
  },
  {
   "cell_type": "code",
   "execution_count": 37,
   "id": "c7a4d916-f130-4405-beaa-b10aef93351e",
   "metadata": {},
   "outputs": [],
   "source": [
    "load_dotenv()\n",
    "openai_key = os.getenv('OPENAI_API_KEY')\n",
    "anthropic_key = os.getenv(\"ANTHROPIC_API_KEY\")\n",
    "\n",
    "if not openai_key or api_key[:8] != 'sk-proj-':\n",
    "    print(\"Problem found with api key, please check the key in env file\")\n",
    "\n",
    "MODEL = 'gpt-4o-mini'\n",
    "openai = OpenAI()\n",
    "claude = Anthropic()"
   ]
  },
  {
   "cell_type": "markdown",
   "id": "15ce8063-bbd5-4ab0-9aea-82df66e1863b",
   "metadata": {},
   "source": [
    "## Extracting Info from 🕸️site using Class"
   ]
  },
  {
   "cell_type": "code",
   "execution_count": 38,
   "id": "25e75f31-247c-46d4-bca2-048294be4ca0",
   "metadata": {},
   "outputs": [],
   "source": [
    "class Website:\n",
    "    def __init__(self,url):\n",
    "        self.url = url\n",
    "        response = requests.get(url)\n",
    "        self.body = response.content\n",
    "        soup = BeautifulSoup(self.body, 'html.parser')\n",
    "        self.title = soup.title.string if soup.title else \"Title Not Found\"\n",
    "        if soup.body:\n",
    "            for irr in soup.body([\"script\", \"style\", \"img\", \"input\"]):\n",
    "                irr.decompose()\n",
    "            self.text = soup.body.get_text(separator = \"\\n\", strip = True)\n",
    "        else:\n",
    "            self.text = \"\"\n",
    "        links = [link.get('href') for link in soup.find_all('a')]\n",
    "        self.links = [link for link in links if link]\n",
    "\n",
    "    def get_contents(self):\n",
    "        return f\"Webpage Title:n {self.title} \\n Webpage Contents: \\n {self.text}\\n\\n\""
   ]
  },
  {
   "cell_type": "code",
   "execution_count": 39,
   "id": "a0a01f9d-5125-47ef-9cb8-b5a6406fe806",
   "metadata": {},
   "outputs": [],
   "source": [
    "# response = requests.get('https://edwarddonner.com/')\n",
    "# soup = BeautifulSoup(body, 'html.parser')\n",
    "# for ir in soup.body([\"script\", \"style\", \"img\", \"input\"]):\n",
    "#     ir.decompose()\n",
    "# soup.body"
   ]
  },
  {
   "cell_type": "code",
   "execution_count": 40,
   "id": "6dee4e7d-2858-4e41-9856-b80027032310",
   "metadata": {},
   "outputs": [],
   "source": [
    "url = 'https://cnn.com/'\n",
    "obj = Website(url)\n",
    "# obj.links"
   ]
  },
  {
   "cell_type": "markdown",
   "id": "048bd008-e230-4655-bd86-13c818119aeb",
   "metadata": {},
   "source": [
    "## 📞 Creating API Call prompts for Links Segregation"
   ]
  },
  {
   "cell_type": "code",
   "execution_count": 41,
   "id": "81945fe2-d3f0-4b86-ab65-d2bd620534ab",
   "metadata": {},
   "outputs": [],
   "source": [
    "link_system_prompt = \"You are provided with a list of links found on a webpage. \\\n",
    "You have to decide which of the links are most relevant to include in a brochure for a company, \\\n",
    "such as links to About page, or company page. You should respond in JSON as this example :\"\n",
    "link_system_prompt += \"\"\"\n",
    "{\n",
    "    \"links\": [\n",
    "    {\"type\": \"games page\", \"url\" : \"https://edition.cnn.com/games\"},\n",
    "    {\"type\": \"profiles page\", \"url\": \"https://edition.cnn.com/profiles\"}\n",
    "}\n",
    "\"\"\"\n",
    "\n",
    "def get_user_prompt(website):\n",
    "    user_prompt = f\"Here is the list of links on the website of {website.url} - \"\n",
    "    user_prompt += \"please decide which of these are relevant web links for a brochure about the company, repsond with the full https URL,\\\n",
    "    Do not include Terms of Service, Privacy, email links. \\n\"\n",
    "    user_prompt += \"Links (some mught be relevant links) : \\n\"\n",
    "    user_prompt += \"\\n\".join(website.links)\n",
    "    return user_prompt"
   ]
  },
  {
   "cell_type": "code",
   "execution_count": 42,
   "id": "cec26af1-2c8f-45a9-8bc2-29694cd6b0f0",
   "metadata": {},
   "outputs": [],
   "source": [
    "# print(get_links_user_prompt(obj))"
   ]
  },
  {
   "cell_type": "markdown",
   "id": "49b8e679-9150-46c4-90ca-245dfcbf0cbf",
   "metadata": {},
   "source": [
    "## Getting Only the relevant Links 🔗"
   ]
  },
  {
   "cell_type": "code",
   "execution_count": 43,
   "id": "b1940dc0-af2d-4116-950d-f531db2f7d75",
   "metadata": {},
   "outputs": [],
   "source": [
    "def get_links(url):\n",
    "    website_obj = Website(url)\n",
    "    response = openai.chat.completions.create(model = MODEL, messages = [\n",
    "    {\"role\":\"system\", \"content\":link_system_prompt},\n",
    "    {\"role\":\"user\", \"content\": get_user_prompt(website_obj)} ],\n",
    "    response_format = {\"type\":\"json_object\"}\n",
    "                                             )\n",
    "    result = response.choices[0].message.content\n",
    "    #print(result)\n",
    "    return json.loads(result)"
   ]
  },
  {
   "cell_type": "code",
   "execution_count": 44,
   "id": "8b11a7bb-be56-4a3c-978b-65794f1d0f81",
   "metadata": {},
   "outputs": [
    {
     "data": {
      "text/plain": [
       "{'links': [{'type': 'home page', 'url': 'https://edition.cnn.com'},\n",
       "  {'type': 'about page', 'url': 'https://edition.cnn.com/about'},\n",
       "  {'type': 'profiles page', 'url': 'https://edition.cnn.com/profiles'},\n",
       "  {'type': 'leadership page',\n",
       "   'url': 'https://edition.cnn.com/profiles/cnn-leadership'},\n",
       "  {'type': 'careers page', 'url': 'https://careers.wbd.com/cnnjobs'},\n",
       "  {'type': 'social media page', 'url': 'https://www.linkedin.com/company/cnn'},\n",
       "  {'type': 'social media page', 'url': 'https://facebook.com/CNN'},\n",
       "  {'type': 'social media page', 'url': 'https://twitter.com/CNN'},\n",
       "  {'type': 'social media page', 'url': 'https://instagram.com/CNN'},\n",
       "  {'type': 'social media page', 'url': 'https://www.tiktok.com/@cnn?lang=en'}]}"
      ]
     },
     "execution_count": 44,
     "metadata": {},
     "output_type": "execute_result"
    }
   ],
   "source": [
    "get_links(url)"
   ]
  },
  {
   "cell_type": "code",
   "execution_count": 46,
   "id": "18b46dff-e3c4-40bb-bfd4-c71be56c0e3f",
   "metadata": {},
   "outputs": [],
   "source": [
    "def get_details(url):\n",
    "    result = \"Page: \\n\"\n",
    "    result += Website(url).get_contents()\n",
    "    links = get_links(url)              ## Getting only the relevant links\n",
    "    print(\"Found Links: \", links)\n",
    "    for link in links[\"links\"]:\n",
    "        result += f\"\\n\\n {link['type']}\\n\"\n",
    "        result += Website(link[\"url\"]).get_contents()\n",
    "    return result\n",
    "\n",
    "# print(get_details(\"https://anthropic.com\"))"
   ]
  },
  {
   "cell_type": "code",
   "execution_count": 47,
   "id": "8ec3d272-b619-4033-b072-048c49c48985",
   "metadata": {},
   "outputs": [],
   "source": [
    "system_prompt = \"You are an assistant that analyzes the contents of several relevant pages from a company website \\\n",
    "and creates a short brochure about the company for prospective customers, investors and recruits. Respond in markdown.\\\n",
    "Include details of company culture, customers and careers/jobs if you have the information.\"\n",
    "\n",
    "\n",
    "def get_brochure_user_prompt(web_obj):\n",
    "    prompt = f\"You are looking at at a company called : {web_obj.title} \\n\"\n",
    "    prompt += \"Here are the details of it's page and other relevant pages: use this information to create a detailed but short brochure of the company\\n\"\n",
    "    prompt += get_details(web_obj.url)\n",
    "    prompt = prompt[:20000]  ## Truncate so that it does not exceed a limit, mostly to reduce costs\n",
    "    return prompt\n",
    "    "
   ]
  },
  {
   "cell_type": "code",
   "execution_count": 48,
   "id": "683417d9-bc1a-458c-a0e2-5330706eb6b7",
   "metadata": {},
   "outputs": [],
   "source": [
    "from IPython.display import Markdown, display, update_display\n",
    "def create_brochure(url):\n",
    "    response = openai.chat.completions.create(model = MODEL, messages = [{\"role\":\"system\", \"content\": system_prompt},\n",
    "                                                                         {\"role\":\"user\", \"content\": get_brochure_user_prompt(Website(url))}])\n",
    "\n",
    "    result = response.choices[0].message.content\n",
    "    display(Markdown(result))"
   ]
  },
  {
   "cell_type": "markdown",
   "id": "a221edd3-e988-4d12-b446-c7ac78cb42a3",
   "metadata": {},
   "source": [
    "## Et Voila! 🪄"
   ]
  },
  {
   "cell_type": "code",
   "execution_count": null,
   "id": "2fab76fb-a24f-4933-ba58-95de08f53030",
   "metadata": {},
   "outputs": [],
   "source": [
    "create_brochure('https://www.anthropic.com/')"
   ]
  },
  {
   "cell_type": "code",
   "execution_count": null,
   "id": "1a99651d-34d0-429c-a255-db852f400abb",
   "metadata": {},
   "outputs": [],
   "source": [
    "def stream_brochure_gpt(url):\n",
    "    stream = openai.chat.completions.create(\n",
    "        model=MODEL,\n",
    "        messages=[\n",
    "            {\"role\": \"system\", \"content\": system_prompt},\n",
    "            {\"role\": \"user\", \"content\": get_brochure_user_prompt(Website(url))}\n",
    "          ],\n",
    "        stream=True\n",
    "    )\n",
    "    result = \"\"\n",
    "    for chunk in stream:\n",
    "        result += chunk.choices[0].delta.content or \"\"\n",
    "        yield result    \n",
    "# ---------------------------- \n",
    "    # To respond within Cell - \n",
    "    # response = \"\"\n",
    "    # display_handle = display(Markdown(\"\"), display_id=True)\n",
    "    # for chunk in stream:\n",
    "    #     response += chunk.choices[0].delta.content or ''\n",
    "    #     #response = response.replace(\"```\",\"\").replace(\"markdown\", \"\")\n",
    "    #     update_display(Markdown(response), display_id=display_handle.display_id)"
   ]
  },
  {
   "cell_type": "code",
   "execution_count": null,
   "id": "adb0a8dc-bf9d-4318-b9d6-c61dd58559d6",
   "metadata": {},
   "outputs": [],
   "source": [
    "def stream_brochure_claude(url):\n",
    "    messages = [{\"role\": \"user\", \"content\": get_brochure_user_prompt(Website(url))}]\n",
    "    result = claude.messages.stream(model = \"claude-sonnet-4-20250514\",system = system_prompt,\n",
    "                                           messages = messages, max_tokens=900)\n",
    "    response = \"\"\n",
    "    with result as stream:\n",
    "        for text in stream.text_stream:\n",
    "            response +=text or \"\"\n",
    "            yield response"
   ]
  },
  {
   "cell_type": "code",
   "execution_count": null,
   "id": "4d799b81-41f4-4f7e-b05a-ffffe09be0f3",
   "metadata": {},
   "outputs": [],
   "source": [
    "stream_brochure_claude('https://www.anthropic.com/')"
   ]
  },
  {
   "cell_type": "markdown",
   "id": "6375bfe7-eec2-4b3e-9230-caded2018769",
   "metadata": {},
   "source": [
    "## Creating UI 🧑‍💻"
   ]
  },
  {
   "cell_type": "code",
   "execution_count": null,
   "id": "988697e2-33c8-48f9-898a-bad6efe99434",
   "metadata": {},
   "outputs": [],
   "source": [
    "import gradio as gr"
   ]
  },
  {
   "cell_type": "code",
   "execution_count": null,
   "id": "a91cd8bd-e4c7-4a42-94be-2a20f2f2becb",
   "metadata": {},
   "outputs": [],
   "source": [
    "def stream_model(url, model):\n",
    "    if model == \"GPT\":\n",
    "        result = stream_brochure_gpt(url)\n",
    "    elif model == \"Claude\":\n",
    "        result = stream_brochure_claude(url)\n",
    "    else:\n",
    "        result = \"Model Not Found\"\n",
    "    for chunk in result:\n",
    "        yield chunk"
   ]
  },
  {
   "cell_type": "code",
   "execution_count": null,
   "id": "eb6f4708-b764-4773-a39a-02980d32be07",
   "metadata": {},
   "outputs": [],
   "source": [
    "view = gr.Interface(fn = stream_model, inputs =[gr.Textbox(label=\"URL:\"), gr.Dropdown([\"GPT\",\"Claude\"], label = \"Select model\")], outputs = [gr.Markdown(label=\"Response:\")],allow_flagging = \"never\")\n",
    "view.launch()\n"
   ]
  }
 ],
 "metadata": {
  "kernelspec": {
   "display_name": "Python 3 (ipykernel)",
   "language": "python",
   "name": "python3"
  },
  "language_info": {
   "codemirror_mode": {
    "name": "ipython",
    "version": 3
   },
   "file_extension": ".py",
   "mimetype": "text/x-python",
   "name": "python",
   "nbconvert_exporter": "python",
   "pygments_lexer": "ipython3",
   "version": "3.11.13"
  }
 },
 "nbformat": 4,
 "nbformat_minor": 5
}
